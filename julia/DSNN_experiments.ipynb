{
 "cells": [
  {
   "cell_type": "markdown",
   "metadata": {},
   "source": [
    "## DIstributed Shared Nearest Neighbor experiments"
   ]
  },
  {
   "cell_type": "code",
   "execution_count": null,
   "metadata": {
    "scrolled": true
   },
   "outputs": [],
   "source": [
    "if length(workers()) > 1\n",
    "    println(\"Removing previous workers...\")\n",
    "    rmprocs(workers())\n",
    "end\n",
    "\n",
    "addprocs([\"158.251.93.5:3308\",\"158.251.93.5:3307\",\"158.251.93.5:3306\",\"158.251.93.5:3305\",\n",
    "        \"158.251.93.5:3304\",\"158.251.93.5:3303\",\"158.251.93.5:3302\",\"158.251.93.5:3301\",])\n",
    "\n",
    "@everywhere include(\"/workspace/distributed_clustering/julia/src/dsnn_IO.jl\")\n",
    "@everywhere include(\"/workspace/distributed_clustering/julia/src/dsnn_KNN.jl\")\n",
    "@everywhere include(\"/workspace/distributed_clustering/julia/src/dsnn_SNN.jl\")\n",
    "@everywhere include(\"/workspace/distributed_clustering/julia/src/dsnn_Master.jl\")\n",
    "\n",
    "using PyCall\n",
    "@pyimport clustering_scores as cs #clustering_scores.py must be in the path.\n",
    "using JLD"
   ]
  },
  {
   "cell_type": "code",
   "execution_count": null,
   "metadata": {},
   "outputs": [],
   "source": [
    "results = Dict{String,Any}();\n",
    "DATA_PATH = \"/workspace/cure_large.dat\";\n",
    "partitions = DSNN_Master.generate_partitions(length(workers()), 8100); # N must be extracted from the data.\n",
    "DSNN_Master.start(results, DATA_PATH, partitions, 0.05, 5, 50, 0.5, 40);"
   ]
  },
  {
   "cell_type": "code",
   "execution_count": null,
   "metadata": {},
   "outputs": [],
   "source": [
    "Stats.countmap(results[\"stage2_labels\"])"
   ]
  },
  {
   "cell_type": "code",
   "execution_count": null,
   "metadata": {},
   "outputs": [],
   "source": [
    "#using Plots\n",
    "#pyplot()\n",
    "#D = DSNN_IO.sparseMatFromFile(DATA_PATH, l2normalize=false);\n",
    "\n",
    "colors = fill(1, size(D,2));\n",
    "colors[results[\"stage1_corepoints\"]] = 2;\n",
    "scatter(D[1,:], D[2,:], marker=(0.05,:o,4), legend=false, fmt = :png)\n",
    "scatter!(D[1,results[\"stage1_corepoints\"]], D[2,results[\"stage1_corepoints\"]], marker=(0.8,:o,4), legend=false, fmt = :png)"
   ]
  },
  {
   "cell_type": "code",
   "execution_count": null,
   "metadata": {
    "collapsed": true
   },
   "outputs": [],
   "source": []
  }
 ],
 "metadata": {
  "kernelspec": {
   "display_name": "Julia 0.6.0",
   "language": "julia",
   "name": "julia-0.6"
  },
  "language_info": {
   "file_extension": ".jl",
   "mimetype": "application/julia",
   "name": "julia",
   "version": "0.6.0"
  }
 },
 "nbformat": 4,
 "nbformat_minor": 1
}
